{
 "cells": [
  {
   "cell_type": "markdown",
   "metadata": {},
   "source": [
    "# Семинар 1. Оформление ноутбука и закрепление функций и генераторов"
   ]
  },
  {
   "cell_type": "markdown",
   "metadata": {},
   "source": [
    "## Задание 1"
   ]
  },
  {
   "cell_type": "markdown",
   "metadata": {},
   "source": [
    "### 1.1 Соедините два словаря в один"
   ]
  },
  {
   "cell_type": "code",
   "execution_count": 1,
   "metadata": {},
   "outputs": [],
   "source": [
    "# Дано:\n",
    "dict1 = {'One': 1, 'Two': 2, 'Three': 3}\n",
    "dict2 = {'Four': 4, 'Five': 5, 'Six': 6}"
   ]
  },
  {
   "cell_type": "markdown",
   "metadata": {},
   "source": [
    "### 1.2 Напишите функцию, которая на вход принимает два словаря и возвращает один объединенный словарь\n",
    "Используйте аннотирование типов."
   ]
  },
  {
   "cell_type": "code",
   "execution_count": 2,
   "metadata": {},
   "outputs": [
    {
     "data": {
      "text/plain": [
       "{'One': 1, 'Two': 2, 'Three': 3, 'Four': 4, 'Five': 5, 'Six': 6}"
      ]
     },
     "execution_count": 2,
     "metadata": {},
     "output_type": "execute_result"
    }
   ],
   "source": [
    "# Способ №1 .update()\n",
    "# Создаем новый словарь с данными из словаря dict1\n",
    "dict3 = dict1.copy()\n",
    "# Добавляем в конец нового словаря данные из словаря dict2\n",
    "dict3.update(dict2)\n",
    "# Выводим объединенный словарь\n",
    "dict3"
   ]
  },
  {
   "cell_type": "code",
   "execution_count": 3,
   "metadata": {},
   "outputs": [
    {
     "data": {
      "text/plain": [
       "{'One': 1, 'Two': 2, 'Three': 3, 'Four': 4, 'Five': 5, 'Six': 6}"
      ]
     },
     "execution_count": 3,
     "metadata": {},
     "output_type": "execute_result"
    }
   ],
   "source": [
    "# Способ №2 с помощью оператора |\n",
    "dict4 = dict1 | dict2\n",
    "# Выводим объединенный словарь\n",
    "dict4"
   ]
  },
  {
   "cell_type": "code",
   "execution_count": 4,
   "metadata": {},
   "outputs": [
    {
     "data": {
      "text/plain": [
       "{'One': 1, 'Two': 2, 'Three': 3, 'Four': 4, 'Five': 5, 'Six': 6}"
      ]
     },
     "execution_count": 4,
     "metadata": {},
     "output_type": "execute_result"
    }
   ],
   "source": [
    "# Способ №3 с помощью распечатывания словарей (**)\n",
    "# Создаем новый словарь и в нем распечатываем(используя**) два словаря\n",
    "dict5 = {**dict1, **dict2}\n",
    "# Выводим объединенный словарь\n",
    "dict5"
   ]
  },
  {
   "cell_type": "code",
   "execution_count": 5,
   "metadata": {},
   "outputs": [
    {
     "data": {
      "text/plain": [
       "{'One': 1, 'Two': 2, 'Three': 3, 'Four': 4, 'Five': 5, 'Six': 6}"
      ]
     },
     "execution_count": 5,
     "metadata": {},
     "output_type": "execute_result"
    }
   ],
   "source": [
    "# Способ №4 Используя аннотирование типов.\n",
    "def merge_dict(d1: dict, d2:dict) -> dict:\n",
    "    result_dict = d1.copy()\n",
    "    #for i in d2.items():\n",
    "        #print(i)    #('Four', 4)\n",
    "                    # ('Five', 5)\n",
    "                    # ('Six', 6)\n",
    "    for key, value in d2.items():\n",
    "        result_dict[key] = value\n",
    "    return result_dict\n",
    "\n",
    "merge_dict(dict1, dict2)"
   ]
  },
  {
   "cell_type": "markdown",
   "metadata": {},
   "source": [
    "## Задание 2\n",
    "Напишите функцию, которая из двух списков, делает один словарь, где элементы из первого списка - ключи, а элементы из второго списка - значения.    \n",
    "Используйте аннотирование типов."
   ]
  },
  {
   "cell_type": "code",
   "execution_count": 6,
   "metadata": {},
   "outputs": [],
   "source": [
    "# Дано:\n",
    "keys = ['One', 'Two', 'Three']\n",
    "values = [1, 2, 3]"
   ]
  },
  {
   "cell_type": "markdown",
   "metadata": {},
   "source": [
    "\n",
    "### 2.1 Используя цикл for"
   ]
  },
  {
   "cell_type": "code",
   "execution_count": 7,
   "metadata": {},
   "outputs": [
    {
     "data": {
      "text/plain": [
       "{'One': 1, 'Two': 2, 'Three': 3}"
      ]
     },
     "execution_count": 7,
     "metadata": {},
     "output_type": "execute_result"
    }
   ],
   "source": [
    "#Способ 1 без цикла\n",
    "# Используя zip - собирает по порядку элементы из двух списков в словарь\n",
    "dict_zip = dict(zip(keys, values))\n",
    "dict_zip"
   ]
  },
  {
   "cell_type": "code",
   "execution_count": 8,
   "metadata": {},
   "outputs": [
    {
     "data": {
      "text/plain": [
       "{'One': 1, 'Two': 2, 'Three': 3}"
      ]
     },
     "execution_count": 8,
     "metadata": {},
     "output_type": "execute_result"
    }
   ],
   "source": [
    "#Способ 2 \n",
    "# Используя цикл for и функцию def\n",
    "\n",
    "# 1. Создаем функцию create_dict_loop\n",
    "def create_dict_loop(k:list, v:list) -> list:\n",
    "    # 3. Создаем пустой словарь, чтобы записать в него данные и в конце вывести результат\n",
    "    dict_for = {}\n",
    "    # 4. Заходим в цикл for, который будет работать до тех пор,\n",
    "    # пока переменная i не станет = len(k)-1 (длина списка -1, т.к. индексы считаем от 0)\n",
    "    # P.S. используя range(len(k)) - длина-1, крайний индекс не включаем, т.к. индексы считаем от 0\n",
    "    #       randint(len(k)) - полная длина \n",
    "    for i in range(len(k)):\n",
    "        # dict_for[k[i]] = v[i]\n",
    "        # либо другая запись:\n",
    "        # 5. Создаем словарь безопасным методом (см. Викторину семинара 1) \n",
    "        # 6. при i = 0, в новый словарь добавляются ключ из нулевой позиции из списка keys = ['One', 'Two', 'Three'] и переменная из нулевой полизии из списка values = [1, 2, 3]\n",
    "        dict_for.setdefault(k[i], v[i])\n",
    "        # 7. Увеличиваем инднкс i+1 и повторяем цикл for\n",
    "    return dict_for\n",
    "\n",
    "# 2. Вызвали функцию create_dict_loop и передали в нее 2 переменные, keys и values\n",
    "create_dict_loop(keys, values)"
   ]
  },
  {
   "cell_type": "markdown",
   "metadata": {},
   "source": [
    "### 2.2 Используя dict comprehensions"
   ]
  },
  {
   "cell_type": "code",
   "execution_count": 9,
   "metadata": {},
   "outputs": [
    {
     "data": {
      "text/plain": [
       "{'One': 1, 'Two': 2, 'Three': 3}"
      ]
     },
     "execution_count": 9,
     "metadata": {},
     "output_type": "execute_result"
    }
   ],
   "source": [
    "dict_comprehensions = {keys[i] : values[i] for i in range(len(keys))} \n",
    "dict_comprehensions\n"
   ]
  },
  {
   "cell_type": "markdown",
   "metadata": {},
   "source": [
    "## Задание 3\n",
    "Извлеките только два ключа name и age из представленного словаря"
   ]
  },
  {
   "cell_type": "code",
   "execution_count": 10,
   "metadata": {},
   "outputs": [],
   "source": [
    "client_dict = {\n",
    "    \"name\": \"John\",\n",
    "    \"age\": 25,\n",
    "    \"salary\": 5000,\n",
    "    \"city\": \"Moscow\"\n",
    "}"
   ]
  },
  {
   "cell_type": "markdown",
   "metadata": {},
   "source": [
    "### 3.1 Напишите функцию с циклом for\n",
    "Функция на вход принимает:   \n",
    "🌟 исходный словарь   \n",
    "🌟 ключи, которые нужно извлечь (аргумент по умолчанию)   \n",
    "На выходе словарь с нужными ключами.\n",
    "   \n",
    "Используйте аннотирование типов.   "
   ]
  },
  {
   "cell_type": "code",
   "execution_count": 11,
   "metadata": {},
   "outputs": [
    {
     "data": {
      "text/plain": [
       "{'name': 'John', 'age': 25}"
      ]
     },
     "execution_count": 11,
     "metadata": {},
     "output_type": "execute_result"
    }
   ],
   "source": [
    "# Создаем функцию, которая на вход будет принимать словарь и список из двух переменных, ключей \"name\" и \"age\"\n",
    "def get_keys(dct: dict, keys: list=[\"name\", \"age\"]) -> dict: #Функция должна вернуть словарь, состоящий из двух ключей\n",
    "    # Создаем пустой словарь, чтобы записать в него данные и в конце вывести результат\n",
    "    dict_for = {}\n",
    "    # Запишем цикл для перебора ключей\n",
    "    for k in keys:\n",
    "        # На место ключа k в словаре dict_for мы помещаем ключ k из словаря dct,который пришел на вход функции get_keys\n",
    "        dict_for[k] = dct[k] #{'name': 'John', 'age': 25}\n",
    "    return dict_for\n",
    "\n",
    "# Запускаем функцию с исходным словарем\n",
    "get_keys(client_dict)\n",
    "# Можем задать другие ключи на вход функции\n",
    "# get_keys(client_dict, [\"salary\", \"city\"]) #{'salary': 5000, 'city': 'Moscow'}"
   ]
  },
  {
   "cell_type": "markdown",
   "metadata": {},
   "source": [
    "### 3.2 Используя dict comprehensions"
   ]
  },
  {
   "cell_type": "code",
   "execution_count": 12,
   "metadata": {},
   "outputs": [
    {
     "data": {
      "text/plain": [
       "{'name': 'John', 'age': 25}"
      ]
     },
     "execution_count": 12,
     "metadata": {},
     "output_type": "execute_result"
    }
   ],
   "source": [
    "dict_for = {k : client_dict[k] for k in [\"name\", \"age\"]}\n",
    "dict_for"
   ]
  },
  {
   "cell_type": "markdown",
   "metadata": {},
   "source": [
    "## Задание 4"
   ]
  },
  {
   "cell_type": "markdown",
   "metadata": {},
   "source": [
    "### 4.1 Сгенерируйте случайные целые числа от 0 до 100 в количестве 5 штук с помощью модуля random\n",
    "● Зафиксируйте псевдогенерацию, чтобы сгенерированные значения всегда были одинаковые  \n",
    "● Используйте list comprehensions"
   ]
  },
  {
   "cell_type": "code",
   "execution_count": 13,
   "metadata": {},
   "outputs": [],
   "source": [
    "from random import randint, seed"
   ]
  },
  {
   "cell_type": "code",
   "execution_count": 14,
   "metadata": {},
   "outputs": [
    {
     "data": {
      "text/plain": [
       "[49, 97, 53, 5, 33]"
      ]
     },
     "execution_count": 14,
     "metadata": {},
     "output_type": "execute_result"
    }
   ],
   "source": [
    "# Зафиксируйте псевдогенерацию, чтобы сгенерированные значения всегда были одинаковые\n",
    "seed(0) # чтобы зафиксировать рандомно выведенные числа, подключим метод seed(), в него можно записать абсолютно любое число, для простоты берем =0\n",
    "gen = [] # создаем переменную для фиксации псевдосгенерированного списка\n",
    "for _ in range(5): # от 0 до 4 - всего 5 элементов\n",
    "    num = randint(0, 100) # от 0 до 100 включительно\n",
    "    gen.append(num)\n",
    "    # gen.append(randint(0, 100))\n",
    "gen"
   ]
  },
  {
   "cell_type": "code",
   "execution_count": 15,
   "metadata": {},
   "outputs": [
    {
     "data": {
      "text/plain": [
       "[73, 4, 54, 61, 73]"
      ]
     },
     "execution_count": 15,
     "metadata": {},
     "output_type": "execute_result"
    }
   ],
   "source": [
    "# Воспользуемся list comprehensions\n",
    "seed(10)\n",
    "gen = [randint(0, 100) for _ in range(5)]\n",
    "gen"
   ]
  },
  {
   "cell_type": "markdown",
   "metadata": {},
   "source": [
    "### 4.2 Напишите генератор\n",
    "🌟 Генератор на вход принимает список с данными о клиенте (данные из пункта 4.1)  \n",
    "🌟 Внутри генератора реализуйте обход по списку с данными   \n",
    "\n",
    "На каждой итерации генератор будет возвращать кортеж из двух элементов:  \n",
    "1. данные по клиенту (в зависимости от итерации, на 0 итерации вернется 0 элемент, на 1 итерации вернется 1 элемент и тд)\n",
    "2. целочисленное значение, которое показывает, сколько секунд прошло с предыдущей итерации , т.е. разницу по времени, между двумя итерациями\n",
    "\n",
    "Примечание: секунды, которые возвращаются должны показывать время не с начала запуска генератора, а именно то время, которое прошло с предыдущей итерации. А значит время на первой итерации должно\n",
    "равняться 0.  \n",
    "\n",
    "🌟 Используйте функцию time из модуля time для подсчета времени.  \n",
    "🌟 Чтобы проверить работу таймера, запустите проход по генератору в цикле с time.sleep(2) - т.е. пауза в коде = 2 секундам"
   ]
  },
  {
   "cell_type": "code",
   "execution_count": 16,
   "metadata": {},
   "outputs": [],
   "source": [
    "import time "
   ]
  },
  {
   "cell_type": "code",
   "execution_count": 17,
   "metadata": {},
   "outputs": [],
   "source": [
    "# Создаем функцию для генератора, который на вход принимает список с данными о клиенте\n",
    "def generator(data: list):\n",
    "    # time.time() #Общепринятая дата, которая начинает отсчет от начала эпохи\n",
    "    last_time = time.time() # время окончания предыдущей итерации\n",
    "    for item in data:\n",
    "        cur_time = time.time() #время начала текущей итерации\n",
    "        difference = cur_time - last_time # разница времени между двумя итерациями\n",
    "        # Вернем кортеж из двух элементов (данные по клиенту, время в секундах)\n",
    "        yield item, int(difference) # В отличии от return после прерывания цикла с помощью yield можно в самом цикле прописывать еще действия \n",
    "        last_time = cur_time # Зафиксируем время окончания текущей итерации\n"
   ]
  },
  {
   "cell_type": "code",
   "execution_count": 18,
   "metadata": {},
   "outputs": [
    {
     "name": "stdout",
     "output_type": "stream",
     "text": [
      "73 0\n",
      "4 2\n",
      "54 2\n",
      "61 2\n",
      "73 2\n"
     ]
    }
   ],
   "source": [
    "# будем вызывать генератор внутри цикла for:\n",
    "# В него будем передавать псевдо сгенерированный список из задачи 4.1: [73, 4, 54, 61, 73]\n",
    "for t in generator(gen):\n",
    "    print(*t) # Выводит без картежа, с помощью *, мы его полностью распоковали\n",
    "    time.sleep(2)"
   ]
  },
  {
   "cell_type": "markdown",
   "metadata": {},
   "source": [
    "## Задание 5"
   ]
  },
  {
   "cell_type": "markdown",
   "metadata": {},
   "source": [
    "### 5.1 Найдите картинку в интернете и прикрепите её в ячейку с текстом"
   ]
  },
  {
   "cell_type": "markdown",
   "metadata": {},
   "source": [
    "![Yeat to come](https://sun9-10.userapi.com/impg/jni_vG324cRlqkhAQdvpipwvdG2ybw1g1X5IIw/FVO1yzRgQzk.jpg?size=711x719&quality=95&sign=5c3215ac30dec6deb9d5e90b84be9fea&c_uniq_tag=8if_PPBnGBbBSRPibzhR8rZphUg0dDF3n8Q5FO3OkXY&type=album)"
   ]
  },
  {
   "cell_type": "markdown",
   "metadata": {},
   "source": [
    "<img src=https:адрес картинки.jpg width = 300 #Размер изображения>"
   ]
  },
  {
   "cell_type": "markdown",
   "metadata": {},
   "source": [
    "### 5.2 Создайте следующую таблицу в ячейке с текстом\n",
    "![alt text](image-1.png)"
   ]
  },
  {
   "cell_type": "markdown",
   "metadata": {},
   "source": [
    "# В HTML\n",
    "<table>\n",
    "    <tr>\n",
    "        <td></td>\n",
    "        <td> До события</td>\n",
    "        <td> Во время события </td>\n",
    "    </tr>\n",
    "    <tr>\n",
    "        <td> 1 контрольная точкка </td>\n",
    "        <td>250</td>\n",
    "        <td>500</td>\n",
    "    </tr>\n",
    "    <tr>\n",
    "        <td> 2 контрольная точкка </td>\n",
    "        <td>350</td>\n",
    "        <td>700</td>\n",
    "    </tr>\n",
    "    <tr>\n",
    "        <td> 3 контрольная точкка </td>\n",
    "        <td>400</td>\n",
    "        <td>800</td>\n",
    "    </tr>\n",
    "    <tr>\n",
    "        <td>Итого за победу</td>\n",
    "        <td>1000</td>\n",
    "        <td>2000</td>\n",
    "    </tr>\n",
    "</table>"
   ]
  },
  {
   "cell_type": "markdown",
   "metadata": {},
   "source": [
    "#В Маркдауне\n",
    "| Column 1 | Column 2 | Column 3 |\n",
    "|----------|----------|----------|\n",
    "| Column 1 | Column 2 | Column 3 |\n",
    "| Column 1 | Column 2 | Column 3 |\n",
    "| Column 1 | Column 2 | Column 3 |"
   ]
  },
  {
   "cell_type": "markdown",
   "metadata": {},
   "source": [
    "## Задание 6.\n",
    "Напишите функцию, которая может принимать любое количество трат пользователя и считать сумму и среднее.  \n",
    "\n",
    "🌟 На вход поступают целочисленные значения в любом количестве   \n",
    "🌟 На выходе словарь с ключами суммы трат и средней траты  "
   ]
  },
  {
   "cell_type": "code",
   "execution_count": 19,
   "metadata": {},
   "outputs": [
    {
     "name": "stdout",
     "output_type": "stream",
     "text": [
      "(123, 56, 45, 54)\n"
     ]
    }
   ],
   "source": [
    "def program(*args): #кортеж\n",
    "    print(args)\n",
    "\n",
    "program(123, 56, 45, 54) #на выходе кортеж: (123, 56, 45, 54)"
   ]
  },
  {
   "cell_type": "code",
   "execution_count": 20,
   "metadata": {},
   "outputs": [
    {
     "name": "stdout",
     "output_type": "stream",
     "text": [
      "{'num1': 123, 'num2': 56, 'num3': 45, 'num4': 54}\n"
     ]
    }
   ],
   "source": [
    "def program(**kwargs): #Словарь\n",
    "    print(kwargs)\n",
    "\n",
    "program(num1 = 123, num2 = 56, num3 = 45, num4 = 54) #на выходе словарь:{'num1': 123, 'num2': 56, 'num3': 45, 'num4': 54}"
   ]
  },
  {
   "cell_type": "code",
   "execution_count": 21,
   "metadata": {},
   "outputs": [
    {
     "data": {
      "text/plain": [
       "{'Сумма трат': 278, 'Среднее трат': 69}"
      ]
     },
     "execution_count": 21,
     "metadata": {},
     "output_type": "execute_result"
    }
   ],
   "source": [
    "def calculate(*args):\n",
    "    #Найдем суму трат:\n",
    "    summa = sum(args)\n",
    "    # Найдем количество трат\n",
    "    length = len(args)\n",
    "    return {\"Сумма трат\": summa, \"Среднее трат\": summa // length}\n",
    "\n",
    "calculate (123, 56, 45, 54) # На вход подаем целочисленные значения в любом количестве"
   ]
  }
 ],
 "metadata": {
  "kernelspec": {
   "display_name": "Python 3",
   "language": "python",
   "name": "python3"
  },
  "language_info": {
   "codemirror_mode": {
    "name": "ipython",
    "version": 3
   },
   "file_extension": ".py",
   "mimetype": "text/x-python",
   "name": "python",
   "nbconvert_exporter": "python",
   "pygments_lexer": "ipython3",
   "version": "3.11.8"
  }
 },
 "nbformat": 4,
 "nbformat_minor": 2
}
