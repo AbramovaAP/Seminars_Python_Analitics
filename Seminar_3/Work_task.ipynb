{
 "cells": [
  {
   "cell_type": "markdown",
   "metadata": {},
   "source": [
    "# Задание 1\n",
    "1. Скачать данные по ссылке  \n",
    "https://www.kaggle.com/datasets/ionaskel/laptop-prices  \n",
    "2. Считать данные с помощью pandas  \n",
    "3. Вывести на экран первые 5 строк  \n",
    "1.1 Создать новый признак Cpu_Company, который будет  \n",
    "содержать только название фирмы, которая произвела CPU  \n",
    "1.2 Создать новый признак Memory_Amount, который будет  \n",
    "содержать только количество Gb памяти без указания типа  \n",
    "носителя  \n",
    "1.3 Создать новый признак Memory_Type, который будет  \n",
    "содержать только тип носителя (HDD/SDD/др.)  \n",
    "1.4 Удалите признаки Memory и ScreenResolution  "
   ]
  },
  {
   "cell_type": "code",
   "execution_count": null,
   "metadata": {},
   "outputs": [],
   "source": [
    "import pandas as pd\n",
    "import numpy as np"
   ]
  },
  {
   "cell_type": "code",
   "execution_count": null,
   "metadata": {},
   "outputs": [],
   "source": [
    "# 1. Считать данные из csv-файла и \n",
    "#    превратить в DataFrame можно функцией read_csv:\n",
    "df = pd.read_csv('./laptop_price.csv', encoding='windows - 1251') #Без кодировки файл не открывается\n",
    "#Вывести 5 строк\n",
    "df.head(5)\n",
    "#Вывести случайных 5 строк\n",
    "df.sample(5)"
   ]
  },
  {
   "cell_type": "markdown",
   "metadata": {},
   "source": [
    "## 1.1 Создать новый признак Cpu_Company, который будет содержать только название фирмы, которая произвела CPU (Intel, AMD и т.д.)"
   ]
  },
  {
   "cell_type": "code",
   "execution_count": null,
   "metadata": {},
   "outputs": [],
   "source": [
    "#Столбец Cpu_Company создается на основе Cpu\n",
    "#выводим для наглядности столбец Cpu, только с уникальными значениями\n",
    "df['Cpu'].value_counts() "
   ]
  },
  {
   "cell_type": "code",
   "execution_count": null,
   "metadata": {},
   "outputs": [],
   "source": [
    "#Функция .apply() - пробегает по всем строкам столбца Cpu\n",
    "df['Cpu_Company'] = df['Cpu'].apply(lambda x: x.split()[0]) \n",
    "df.head()"
   ]
  },
  {
   "cell_type": "markdown",
   "metadata": {},
   "source": [
    "## 1.2 Создать новый признак Memory_Amount, который будет содержать только количество Gb памяти без указания типа носителя (128, 1024, 256 и т.д.)"
   ]
  },
  {
   "cell_type": "code",
   "execution_count": null,
   "metadata": {},
   "outputs": [],
   "source": [
    "#выводим для наглядности столбец Memory, только с уникальными значениями\n",
    "df['Memory'].value_counts() "
   ]
  },
  {
   "cell_type": "code",
   "execution_count": null,
   "metadata": {},
   "outputs": [],
   "source": [
    "# 512GB SSD + 1.0TB Hybrid - самый сложный вариант из имеющихся\n",
    "# чтобы создать логически правильную функцию\n",
    "def get_gb(row):\n",
    "    #Счетчик для подсчета Гб, без указания типа носителя:\n",
    "    gb = 0\n",
    "    # Разбиваем строку по пробелу:\n",
    "    spl_row = row.split()\n",
    "\n",
    "    # Для наглядности выведем список полученный от разделения строки:\n",
    "    #print(spl_row)\n",
    "#get_gb(\"512GB SSD + 1.0TB Hybrid\") # Вывод:['512GB', 'SSD', '+', '1.0TB', 'Hybrid']\n",
    "    \n",
    "    # Цикл для подсчета Гб, перебирая элементы(el) списка:\n",
    "    for el in spl_row:\n",
    "\n",
    "        #Для наглядности выведем елементы, которые перебирает список\n",
    "        #print(el)\n",
    "#get_gb(\"512GB SSD + 1.0TB Hybrid\") #Вывод:   512GB \n",
    "                                            # SSD \n",
    "                                            # + \n",
    "                                            # 1.0TB \n",
    "                                            # Hybrid   \n",
    "        if 'GB' in el:\n",
    "            gb += int(el[:-2]) # Срез до предпоследнего элемента\n",
    "        elif 'TB' in el:\n",
    "            gb += float(el[:-2]) * 1024\n",
    "    return int(gb)\n",
    "\n",
    "\n",
    "\n",
    "    #Функция .apply() - пробегает по всем строкам столбца Memory\n",
    "    df['Memory_Amount'] = df['Memory'].apply(get_gb) # Полученное значение помещаем в новый столбец\n",
    "    #Выводим таблицу, состоящую из 5 строк:\n",
    "    df.head()"
   ]
  },
  {
   "cell_type": "markdown",
   "metadata": {},
   "source": [
    "## 1.3 Создать новый признак Memory_Type, который будет содержать только тип носителя (HDD/SDD/др.)  "
   ]
  },
  {
   "cell_type": "code",
   "execution_count": null,
   "metadata": {},
   "outputs": [],
   "source": [
    "#Вывести случайной строки для наглядности по шапке таблицы\n",
    "df.sample()"
   ]
  },
  {
   "cell_type": "code",
   "execution_count": null,
   "metadata": {},
   "outputs": [],
   "source": [
    "#выводим для наглядности столбец Memory, только с уникальными значениями\n",
    "df['Memory'].value_counts() "
   ]
  },
  {
   "cell_type": "code",
   "execution_count": null,
   "metadata": {},
   "outputs": [],
   "source": [
    "# 64GB Flash Storage + 1.0TB HDD - самый сложный вариант из имеющихся\n",
    "# чтобы создать логически правильную функцию\n",
    "def get_type(row):\n",
    "    # Создаем пустую строку, в которую будем записывать все наши типы\n",
    "    type_memory = ''\n",
    "    # Разбиваем строку по пробелу:\n",
    "    spl_row = row.split()\n",
    "\n",
    "    # Вариант 1:\n",
    "    # Цикл для подсчета Гб, перебирая элементы(el) списка:\n",
    "    for el in spl_row:\n",
    "        # если 'GB' и 'TB' нет в элементе, то мы его записыфваем в список\n",
    "        if 'GB' not in el and 'TB'not in el: \n",
    "            type_memory += el + ' '\n",
    "    return type_memory.rstrip()\n",
    "\n",
    "\n",
    "\n",
    "    #Функция .apply() - пробегает по всем строкам столбца Memory\n",
    "    df['Memory_Type_1'] = df['Memory'].apply(get_gb) # Полученное значение помещаем в новый столбец\n",
    "    #Выводим таблицу, состоящую из 5 строк:\n",
    "    df.head()"
   ]
  },
  {
   "cell_type": "code",
   "execution_count": null,
   "metadata": {},
   "outputs": [],
   "source": [
    "# Вариант 2\n",
    "# 64GB Flash Storage + 1.0TB HDD\n",
    "def get_type(row):\n",
    "    # Разбиваем строку по пробелу:\n",
    "    spl_row = row.split()\n",
    "    # Цикл для создания списка, перебирая индексы с конца списка:\n",
    "    for i in range(len(spl_row)-1, -1, -1):\n",
    "        # если 'GB' или 'TB' есть в списке, то мы его удаляем из строки\n",
    "        if 'GB' in spl_row[i] or 'TB' in spl_row[i]: \n",
    "            del spl_row[i]\n",
    "    # Метод .join() - собирает в строку все оставшиеся элементы, \n",
    "    # после удаления ненужных элементов из списка\n",
    "    return ' '.join(spl_row) \n",
    "# Передаем в функцию нашу экспериментальную строку\n",
    "get_gb('64GB Flash Storage + 1.0TB HDD') "
   ]
  },
  {
   "cell_type": "code",
   "execution_count": null,
   "metadata": {},
   "outputs": [],
   "source": [
    "# Вариант 3, который запишем в итоговый вариант\n",
    "# 64GB Flash Storage + 1.0TB HDD - самый сложный вариант из имеющихся\n",
    "# чтобы создать логически правильную функцию\n",
    "def get_type(row):\n",
    "    # Создаем пустую строку, в которую будем записывать все наши типы\n",
    "    type_memory = ''\n",
    "    # Разбиваем строку по пробелу:\n",
    "    spl_row = row.split()\n",
    "\n",
    "    # Цикл для создания списка, перебирая элементы(el) списка:\n",
    "    for el in spl_row:\n",
    "        if el.isalpha(): \n",
    "            type_memory += el + ' '\n",
    "    return type_memory.rstrip()\n",
    "\n",
    "## Передаем в функцию нашу экспериментальную строку\n",
    "#get_gb('64GB Flash Storage + 1.0TB HDD') \n",
    "\n",
    "#Функция .apply() - пробегает по всем строкам столбца Memory\n",
    "df['Memory_Type_2'] = df['Memory'].apply(get_gb) # Полученное значение помещаем в новый столбец\n",
    "#Выводим таблицу, состоящую из 5 строк:\n",
    "df.head()"
   ]
  },
  {
   "cell_type": "markdown",
   "metadata": {},
   "source": [
    "## 1.4 Удалите признаки Memory и ScreenResolution"
   ]
  },
  {
   "cell_type": "code",
   "execution_count": null,
   "metadata": {},
   "outputs": [],
   "source": [
    "df.drop(columns = ['Memory'], ['ScreenResolution'], inplace = True) \n",
    "df.head() #Если выдает ошибку, немжно перезапустить весь код с самого начала"
   ]
  },
  {
   "cell_type": "markdown",
   "metadata": {},
   "source": [
    "## Задание 2.\n",
    "2.1 Создайте признак SSD, который изначально равен 0  \n",
    "2.2 Поставьте в признаке SSD 1, если ноутбук действительно с типом носителя SSD  \n",
    "2.3 Уберите в признаке Weight значения 'kg' и поменяйте его тип данных на вещественный  "
   ]
  },
  {
   "cell_type": "markdown",
   "metadata": {},
   "source": [
    "## 2.1 Создайте признак SSD, который изначально равен 0   "
   ]
  },
  {
   "cell_type": "code",
   "execution_count": null,
   "metadata": {},
   "outputs": [],
   "source": [
    "df['SSD'] = 0\n",
    "df.head(2)"
   ]
  },
  {
   "cell_type": "markdown",
   "metadata": {},
   "source": [
    "## 2.2 Поставьте в признаке SSD значение = 1, если ноутбук действительно с типом носителя SSD  "
   ]
  },
  {
   "cell_type": "code",
   "execution_count": null,
   "metadata": {},
   "outputs": [],
   "source": [
    "# Вариант 1\n",
    "#df.loc[сроки, колонки]\n",
    "#Данный способ не подайдет, если тип указан, как: SDD + HDD\n",
    "df.loc[df['Memory_Type_2'] == 'SSD', 'SSD'] = 1 \n",
    "df.sample(10)"
   ]
  },
  {
   "cell_type": "code",
   "execution_count": null,
   "metadata": {},
   "outputs": [],
   "source": [
    "# Вариант 2 - Наилучший\n",
    "#df.loc[сроки, колонки]\n",
    "df.loc[df['Memory_Type_2'].str.contains('SSD'), 'SSD'] = 1\n",
    "df.sample(10)"
   ]
  },
  {
   "cell_type": "markdown",
   "metadata": {},
   "source": [
    "## 2.3 Уберите в признаке Weight значения 'kg' и поменяйте его тип данных на вещественный "
   ]
  },
  {
   "cell_type": "code",
   "execution_count": null,
   "metadata": {},
   "outputs": [],
   "source": [
    "# Вариант 1\n",
    "df['Weight'].str.replace('kg', '').astype('float')"
   ]
  },
  {
   "cell_type": "code",
   "execution_count": null,
   "metadata": {},
   "outputs": [],
   "source": [
    "# Вариант 2\n",
    "#Сохраним данные \n",
    "df['Weight'] = df['Weight'].apply(lambda row: row[:-2]).astype('float')"
   ]
  },
  {
   "cell_type": "code",
   "execution_count": null,
   "metadata": {},
   "outputs": [],
   "source": [
    "#Запустим датаФрейм\n",
    "df.sample(10)"
   ]
  },
  {
   "cell_type": "markdown",
   "metadata": {},
   "source": [
    "## Задание 3.\n",
    "Создайте датафрейм с клиентами:  \n",
    "clients = pd.DataFrame({  \n",
    "'client_id': [45, 32, 67, 33, 43],  \n",
    "'laptop_id': [506, 398, 710, 120, 1999]  \n",
    "})  \n",
    "laptop_id - это индексы датафрейма с ноутбуками  \n",
    "3.1 Присоедините к таблице clients данные по ноутбукам через метод join  \n",
    "3.2 Присоедините к таблице clients данные по ноутбукам через метод merge  \n",
    "Это нужно, чтобы понимать, какие ноутбуки покупались клиентами  "
   ]
  },
  {
   "cell_type": "code",
   "execution_count": null,
   "metadata": {},
   "outputs": [],
   "source": [
    "clients = pd.DataFrame({  \n",
    "'client_id': [45, 32, 67, 33, 43],  \n",
    "'laptop_id': [506, 398, 710, 120, 1999]  \n",
    "})  \n",
    "clients"
   ]
  },
  {
   "cell_type": "code",
   "execution_count": null,
   "metadata": {},
   "outputs": [],
   "source": [
    "df.sample(1)"
   ]
  },
  {
   "cell_type": "markdown",
   "metadata": {},
   "source": [
    "## 3.1 Присоедините к таблице clients данные по ноутбукам через метод join  "
   ]
  },
  {
   "cell_type": "code",
   "execution_count": null,
   "metadata": {},
   "outputs": [],
   "source": [
    "# Нам нужно, чтобы наши колонки стали индексами:\n",
    "clients_id = clients.set_index('laptop_id')\n",
    "clients_id"
   ]
  },
  {
   "cell_type": "code",
   "execution_count": null,
   "metadata": {},
   "outputs": [],
   "source": [
    "# В основном датаФрейме также делаем наши колонки индексами\n",
    "df_id =df.set_index('laptop_ID')\n",
    "df_id.sample()"
   ]
  },
  {
   "cell_type": "code",
   "execution_count": null,
   "metadata": {},
   "outputs": [],
   "source": [
    "# Присоединяем к таблице clients_id таблицу df_id\n",
    "clients_id.join(df_id)"
   ]
  },
  {
   "cell_type": "markdown",
   "metadata": {},
   "source": [
    "## 3.2 Присоедините к таблице clients данные по ноутбукам через метод merge  "
   ]
  },
  {
   "cell_type": "code",
   "execution_count": null,
   "metadata": {},
   "outputs": [],
   "source": [
    "#Вариант 1\n",
    "# Присоединяем к таблице clients_id таблицу df_id\n",
    "clients.merge(df, left_on='laptop_id', right_on='laptop_ID')"
   ]
  },
  {
   "cell_type": "code",
   "execution_count": null,
   "metadata": {},
   "outputs": [],
   "source": [
    "#Вариант 2 - идем по индексу\n",
    "clients_id.merge(df_id, left_index=True, right_index=True, how='left')"
   ]
  },
  {
   "cell_type": "markdown",
   "metadata": {},
   "source": [
    "## Задание 4.  \n",
    "Составьте несколько сводных таблиц  \n",
    "4.1 Найдите среднюю стоимость ноутбуков в зависимости от компании производителя  \n",
    "Отсортируйте от меньшей стоимости к большей  \n",
    "4.2 Найдите минимальную, среднюю и максимальную стоимости ноутбуков в зависимости от производителя процессора  \n",
    "4.3 Постройте таблицу с подсчетом количества ноутбуков в данных в зависимости от производителя CPU и ОЗУ  \n",
    "4.4 Постройте таблицу с подсчетом средней стоимости ноутбуков в данных в зависимости от операционной системы и GB памяти  "
   ]
  },
  {
   "cell_type": "markdown",
   "metadata": {},
   "source": [
    "## 4.1 Найдите среднюю стоимость ноутбуков в зависимости от компании производителя  \n",
    "Отсортируйте от меньшей стоимости к большей  "
   ]
  },
  {
   "cell_type": "code",
   "execution_count": null,
   "metadata": {},
   "outputs": [],
   "source": [
    "df.sample()"
   ]
  },
  {
   "cell_type": "code",
   "execution_count": null,
   "metadata": {},
   "outputs": [],
   "source": [
    "# Метод .agg({'Price_euros': 'mean'}) - находит срюзнач\n",
    "# Метод .sort_values('Price_euros') - сортирует по возрастанию по колонке 'Price_euros'\n",
    "df.groupby('Company').agg({'Price_euros': 'mean'}).sort_values('Price_euros')"
   ]
  },
  {
   "cell_type": "code",
   "execution_count": null,
   "metadata": {},
   "outputs": [],
   "source": [
    "#Вариант 2 \n",
    "#df.groupby('Company')['Price_euros'].mean().sort_values()"
   ]
  },
  {
   "cell_type": "code",
   "execution_count": null,
   "metadata": {},
   "outputs": [],
   "source": [
    "#Вариант 3\n",
    "#df.groupby('Company').Price_euros.mean().sort_values()"
   ]
  },
  {
   "cell_type": "markdown",
   "metadata": {},
   "source": [
    "## 4.2 Найдите минимальную, среднюю и максимальную стоимости ноутбуков в зависимости от производителя процессора   "
   ]
  },
  {
   "cell_type": "code",
   "execution_count": null,
   "metadata": {},
   "outputs": [],
   "source": [
    "df.groupby('Cpu_Company').agg({'Price_euros':['min', 'mean', 'max']})"
   ]
  },
  {
   "cell_type": "markdown",
   "metadata": {},
   "source": [
    "## 4.3 Постройте таблицу с подсчетом количества ноутбуков в данных в зависимости от производителя CPU и ОЗУ  "
   ]
  },
  {
   "cell_type": "code",
   "execution_count": null,
   "metadata": {},
   "outputs": [],
   "source": [
    "# Методы.groupby() и .pivot_table() -> взаимозаменяемый\n",
    "# fill - наполнять\n",
    "df.pivot_table(index='Cpu_Company', columns='Ram', aggfunc='count', values='Weight', fill_value=0) "
   ]
  },
  {
   "cell_type": "markdown",
   "metadata": {},
   "source": [
    "## 4.4 Постройте таблицу с подсчетом средней стоимости ноутбуков в данных в зависимости от операционной системы и GB памяти"
   ]
  },
  {
   "cell_type": "code",
   "execution_count": null,
   "metadata": {},
   "outputs": [],
   "source": [
    "df.groupby(['OpSys', 'Memory_Amount']).agg({'Price_euros':'mean'}).unstack('Memory_Amount').fillna(0).round(2)"
   ]
  },
  {
   "cell_type": "markdown",
   "metadata": {},
   "source": [
    "## Задание 5.  \n",
    "Ответьте на несколько вопросов  \n",
    "5.1 Ноутбуков каких компаний и с каким процессором больше?  \n",
    "5.2 С каким типом памяти и с каким объемом памяти больше ноутбуков?  "
   ]
  },
  {
   "cell_type": "code",
   "execution_count": null,
   "metadata": {},
   "outputs": [],
   "source": [
    "df.sample()"
   ]
  },
  {
   "cell_type": "markdown",
   "metadata": {},
   "source": [
    "## 5.1 Ноутбуков каких компаний и с каким процессором больше?  "
   ]
  },
  {
   "cell_type": "code",
   "execution_count": null,
   "metadata": {},
   "outputs": [],
   "source": [
    "pd.crosstab(index=df['Company'], columns=df['Cpu_company'])"
   ]
  },
  {
   "cell_type": "markdown",
   "metadata": {},
   "source": [
    "## 5.2 С каким типом памяти и с каким объемом памяти больше ноутбуков?  "
   ]
  },
  {
   "cell_type": "code",
   "execution_count": null,
   "metadata": {},
   "outputs": [],
   "source": [
    "pd.crosstab(index=df['Memory_Type_2'], columns=df['Memory_Amount'])"
   ]
  }
 ],
 "metadata": {
  "language_info": {
   "name": "python"
  }
 },
 "nbformat": 4,
 "nbformat_minor": 2
}
